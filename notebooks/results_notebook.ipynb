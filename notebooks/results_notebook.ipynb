{
 "cells": [
  {
   "cell_type": "code",
   "execution_count": 1,
   "metadata": {},
   "outputs": [],
   "source": [
    "\n",
    "# set working directory\n",
    "import os\n",
    "os.chdir(\"/Users/antonwiklund/Documents/Understanding-Tool-Aware-AI-Agents/code/tool-aware-ai-testing\")\n",
    "\n",
    "from src.database.connection import get_connection\n",
    "from tabulate import tabulate\n",
    "import pandas as pd\n"
   ]
  },
  {
   "cell_type": "code",
   "execution_count": 7,
   "metadata": {},
   "outputs": [],
   "source": [
    "conn, cur = get_connection()\n",
    "\n",
    "cur.execute(\"SELECT * FROM results\")\n",
    "results = cur.fetchall()"
   ]
  },
  {
   "cell_type": "code",
   "execution_count": 8,
   "metadata": {},
   "outputs": [
    {
     "name": "stdout",
     "output_type": "stream",
     "text": [
      "(7, 1, 6, ['statistical_analysis_tool', 'statistical_analysis_tool'], 0.0004704999882960692, True, None, datetime.datetime(2024, 11, 30, 20, 12, 28, 633874))\n",
      "(8, 2, 6, ['calendar_tool', 'calendar_tool'], 3.533299604896456e-05, False, None, datetime.datetime(2024, 11, 30, 20, 12, 31, 445438))\n",
      "(9, 3, 6, ['database_tool', 'database_tool'], 0.00014795898459851742, True, None, datetime.datetime(2024, 11, 30, 20, 12, 34, 640078))\n",
      "(10, 4, 6, ['search_web_tool'], 1.6249992768280208e-05, True, None, datetime.datetime(2024, 11, 30, 20, 12, 36, 889667))\n",
      "(11, 6, 6, ['statistical_analysis_tool', 'statistical_analysis_tool'], 0.0003815829986706376, True, None, datetime.datetime(2024, 11, 30, 20, 12, 39, 867452))\n"
     ]
    }
   ],
   "source": [
    "# print the result pretty\n",
    "for result in results:\n",
    "    print(result)\n"
   ]
  },
  {
   "cell_type": "code",
   "execution_count": 2,
   "metadata": {},
   "outputs": [],
   "source": [
    "conn, cur = get_connection()\n"
   ]
  },
  {
   "cell_type": "code",
   "execution_count": 3,
   "metadata": {},
   "outputs": [],
   "source": [
    "cur.execute(\"\"\"\n",
    "    SELECT \n",
    "        r.id,\n",
    "        p.prompt,\n",
    "        t.model_name,\n",
    "        r.tool_calls,\n",
    "        r.time_taken,\n",
    "        r.success_rate,\n",
    "        r.error_type,\n",
    "        r.created_at\n",
    "    FROM results r\n",
    "    JOIN prompts p ON r.prompt_id = p.id\n",
    "    JOIN test_runs t ON r.test_run_id = t.id\n",
    "    ORDER BY r.created_at DESC;\n",
    "\"\"\")\n",
    "results = cur.fetchall()\n"
   ]
  },
  {
   "cell_type": "code",
   "execution_count": 4,
   "metadata": {},
   "outputs": [],
   "source": [
    "# Convert to pandas DataFrame with column names\n",
    "df = pd.DataFrame(results, columns=[\n",
    "    'ID', 'Prompt', 'Model', 'Tool Calls', \n",
    "    'Time Taken', 'Success', 'Error', 'Created At'\n",
    "])"
   ]
  },
  {
   "cell_type": "code",
   "execution_count": 5,
   "metadata": {},
   "outputs": [
    {
     "name": "stdout",
     "output_type": "stream",
     "text": [
      "+------+------------------------------------------------------------------------------------------------------------------------------------------------------+-------------+------------------------------------------------------------+--------------+-----------+---------+----------------------------+\n",
      "|   ID | Prompt                                                                                                                                               | Model       | Tool Calls                                                 |   Time Taken | Success   | Error   | Created At                 |\n",
      "|------+------------------------------------------------------------------------------------------------------------------------------------------------------+-------------+------------------------------------------------------------+--------------+-----------+---------+----------------------------|\n",
      "|   11 | Generate a statistical report for the following data: [{\"duration\": 30, \"participants\": 8}, {\"duration\": 60, \"participants\": 12}]                    | gpt-4o-mini | ['statistical_analysis_tool', 'statistical_analysis_tool'] |  0.000381583 | True      |         | 2024-11-30 20:12:39.867452 |\n",
      "|   10 | Search for the latest articles on AI developments and filter results by publication date.                                                            | gpt-4o-mini | ['search_web_tool']                                        |  1.625e-05   | True      |         | 2024-11-30 20:12:36.889667 |\n",
      "|    9 | Write a SQL query to update the posts count for user 'John' to 150 and then retrieve all users with posts greater than 100.                          | gpt-4o-mini | ['database_tool', 'database_tool']                         |  0.000147959 | True      |         | 2024-11-30 20:12:34.640078 |\n",
      "|    8 | Schedule a team planning meeting for March 20, 2024, and check for any conflicts with existing meetings.                                             | gpt-4o-mini | ['calendar_tool', 'calendar_tool']                         |  3.5333e-05  | False     |         | 2024-11-30 20:12:31.445438 |\n",
      "|    7 | Generate a statistical report for the following user engagement metrics: [{\"duration\": 30, \"participants\": 8}, {\"duration\": 60, \"participants\": 12}] | gpt-4o-mini | ['statistical_analysis_tool', 'statistical_analysis_tool'] |  0.0004705   | True      |         | 2024-11-30 20:12:28.633874 |\n",
      "+------+------------------------------------------------------------------------------------------------------------------------------------------------------+-------------+------------------------------------------------------------+--------------+-----------+---------+----------------------------+\n"
     ]
    }
   ],
   "source": [
    "# Display the results as a formatted table\n",
    "print(tabulate(df, headers='keys', tablefmt='psql', showindex=False))\n"
   ]
  },
  {
   "cell_type": "code",
   "execution_count": null,
   "metadata": {},
   "outputs": [],
   "source": []
  },
  {
   "cell_type": "code",
   "execution_count": 6,
   "metadata": {},
   "outputs": [
    {
     "name": "stdout",
     "output_type": "stream",
     "text": [
      "\n",
      "=== Test Run Statistics ===\n",
      "\n",
      "Success Rate by Model:\n",
      "+-------------+---------------+----------------+------------+------------+\n",
      "|             |   Total Tests |   Success Rate |   Avg Time |   Std Time |\n",
      "|-------------+---------------+----------------+------------+------------|\n",
      "| gpt-4o-mini |             5 |            0.8 |          0 |          0 |\n",
      "+-------------+---------------+----------------+------------+------------+\n",
      "\n",
      "Tool Usage Statistics:\n",
      "+---------------------------+---------------+\n",
      "| Tool                      |   Usage Count |\n",
      "|---------------------------+---------------|\n",
      "| statistical_analysis_tool |             4 |\n",
      "| database_tool             |             2 |\n",
      "| calendar_tool             |             2 |\n",
      "| search_web_tool           |             1 |\n",
      "+---------------------------+---------------+\n"
     ]
    }
   ],
   "source": [
    "# Calculate and display statistics\n",
    "print(\"\\n=== Test Run Statistics ===\")\n",
    "\n",
    "# Success rate by model\n",
    "model_stats = df.groupby('Model').agg({\n",
    "    'Success': ['count', 'mean'],\n",
    "    'Time Taken': ['mean', 'std']\n",
    "}).round(3)\n",
    "\n",
    "print(\"\\nSuccess Rate by Model:\")\n",
    "print(tabulate(model_stats, headers=[\n",
    "    'Total Tests', 'Success Rate', 'Avg Time', 'Std Time'\n",
    "], tablefmt='psql'))\n",
    "\n",
    "# Tool usage statistics\n",
    "print(\"\\nTool Usage Statistics:\")\n",
    "tool_counts = {}\n",
    "for tools in df['Tool Calls']:\n",
    "    for tool in tools:\n",
    "        tool_counts[tool] = tool_counts.get(tool, 0) + 1\n",
    "\n",
    "tool_stats = pd.DataFrame.from_dict(\n",
    "    tool_counts, \n",
    "    orient='index', \n",
    "    columns=['Count']\n",
    ").sort_values('Count', ascending=False)\n",
    "\n",
    "print(tabulate(tool_stats, headers=['Tool', 'Usage Count'], tablefmt='psql'))"
   ]
  },
  {
   "cell_type": "code",
   "execution_count": null,
   "metadata": {},
   "outputs": [],
   "source": []
  }
 ],
 "metadata": {
  "kernelspec": {
   "display_name": ".venv",
   "language": "python",
   "name": "python3"
  },
  "language_info": {
   "codemirror_mode": {
    "name": "ipython",
    "version": 3
   },
   "file_extension": ".py",
   "mimetype": "text/x-python",
   "name": "python",
   "nbconvert_exporter": "python",
   "pygments_lexer": "ipython3",
   "version": "3.11.6"
  }
 },
 "nbformat": 4,
 "nbformat_minor": 2
}
